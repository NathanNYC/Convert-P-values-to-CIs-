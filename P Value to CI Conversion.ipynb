{
 "cells": [
  {
   "cell_type": "code",
   "execution_count": 11,
   "metadata": {},
   "outputs": [
    {
     "name": "stdout",
     "output_type": "stream",
     "text": [
      "What is the treatment arm outcome?20\n",
      "What is the control arm outcome?5\n",
      "What is the P value?0.01\n",
      "The 95% CI is 3.58 to 26.42\n"
     ]
    }
   ],
   "source": [
    "#Convert P-values to Confidence Intervals \n",
    "#Formula credit to Pharmagellan \n",
    "\n",
    "import math \n",
    "\n",
    "#inputs\n",
    "A=float(input(\"What is the treatment arm outcome?\"))\n",
    "B=float(input(\"What is the control arm outcome?\"))\n",
    "P=float(input(\"What is the P value?\"))\n",
    "\n",
    "#logic\n",
    "Z=-0.862+math.sqrt(0.743-2.404 * math.log(P))\n",
    "D=A-B\n",
    "SE=abs(D)/Z \n",
    "\n",
    "#CI prep \n",
    "Down=(D-(1.96*SE))\n",
    "Down=round(Down,2)\n",
    "Up=(D+(1.96*SE))\n",
    "Up=round(Up,2)\n",
    "\n",
    "#output \n",
    "print(\"The 95% CI is\",Down,\"to\",Up)\n"
   ]
  },
  {
   "cell_type": "code",
   "execution_count": null,
   "metadata": {},
   "outputs": [],
   "source": []
  }
 ],
 "metadata": {
  "kernelspec": {
   "display_name": "Python 3 (ipykernel)",
   "language": "python",
   "name": "python3"
  },
  "language_info": {
   "codemirror_mode": {
    "name": "ipython",
    "version": 3
   },
   "file_extension": ".py",
   "mimetype": "text/x-python",
   "name": "python",
   "nbconvert_exporter": "python",
   "pygments_lexer": "ipython3",
   "version": "3.9.5"
  }
 },
 "nbformat": 4,
 "nbformat_minor": 4
}
